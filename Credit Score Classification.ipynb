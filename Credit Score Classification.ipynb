{
 "cells": [
  {
   "cell_type": "code",
   "execution_count": 1,
   "id": "c5987af8",
   "metadata": {},
   "outputs": [],
   "source": [
    "# import the important libraries\n",
    "\n",
    "import pandas as pd\n",
    "import numpy as np\n",
    "from sklearn.model_selection import train_test_split\n",
    "from sklearn.linear_model import LogisticRegression\n",
    "import warnings\n",
    "warnings.filterwarnings('ignore')\n",
    "from sklearn.metrics import accuracy_score,precision_score,recall_score,f1_score,\\\n",
    "classification_report,confusion_matrix,roc_auc_score,roc_curve,multilabel_confusion_matrix\n",
    "from sklearn.ensemble import RandomForestClassifier"
   ]
  },
  {
   "cell_type": "code",
   "execution_count": 2,
   "id": "33badfec",
   "metadata": {},
   "outputs": [
    {
     "data": {
      "text/html": [
       "<div>\n",
       "<style scoped>\n",
       "    .dataframe tbody tr th:only-of-type {\n",
       "        vertical-align: middle;\n",
       "    }\n",
       "\n",
       "    .dataframe tbody tr th {\n",
       "        vertical-align: top;\n",
       "    }\n",
       "\n",
       "    .dataframe thead th {\n",
       "        text-align: right;\n",
       "    }\n",
       "</style>\n",
       "<table border=\"1\" class=\"dataframe\">\n",
       "  <thead>\n",
       "    <tr style=\"text-align: right;\">\n",
       "      <th></th>\n",
       "      <th>ID</th>\n",
       "      <th>Customer_ID</th>\n",
       "      <th>Month</th>\n",
       "      <th>Name</th>\n",
       "      <th>Age</th>\n",
       "      <th>SSN</th>\n",
       "      <th>Occupation</th>\n",
       "      <th>Annual_Income</th>\n",
       "      <th>Monthly_Inhand_Salary</th>\n",
       "      <th>Num_Bank_Accounts</th>\n",
       "      <th>...</th>\n",
       "      <th>Credit_Mix</th>\n",
       "      <th>Outstanding_Debt</th>\n",
       "      <th>Credit_Utilization_Ratio</th>\n",
       "      <th>Credit_History_Age</th>\n",
       "      <th>Payment_of_Min_Amount</th>\n",
       "      <th>Total_EMI_per_month</th>\n",
       "      <th>Amount_invested_monthly</th>\n",
       "      <th>Payment_Behaviour</th>\n",
       "      <th>Monthly_Balance</th>\n",
       "      <th>Credit_Score</th>\n",
       "    </tr>\n",
       "  </thead>\n",
       "  <tbody>\n",
       "    <tr>\n",
       "      <th>0</th>\n",
       "      <td>5634</td>\n",
       "      <td>3392</td>\n",
       "      <td>1</td>\n",
       "      <td>Aaron Maashoh</td>\n",
       "      <td>23.0</td>\n",
       "      <td>821000265.0</td>\n",
       "      <td>Scientist</td>\n",
       "      <td>19114.12</td>\n",
       "      <td>1824.843333</td>\n",
       "      <td>3.0</td>\n",
       "      <td>...</td>\n",
       "      <td>Good</td>\n",
       "      <td>809.98</td>\n",
       "      <td>26.822620</td>\n",
       "      <td>265.0</td>\n",
       "      <td>No</td>\n",
       "      <td>49.574949</td>\n",
       "      <td>21.46538</td>\n",
       "      <td>High_spent_Small_value_payments</td>\n",
       "      <td>312.494089</td>\n",
       "      <td>Good</td>\n",
       "    </tr>\n",
       "    <tr>\n",
       "      <th>1</th>\n",
       "      <td>5635</td>\n",
       "      <td>3392</td>\n",
       "      <td>2</td>\n",
       "      <td>Aaron Maashoh</td>\n",
       "      <td>23.0</td>\n",
       "      <td>821000265.0</td>\n",
       "      <td>Scientist</td>\n",
       "      <td>19114.12</td>\n",
       "      <td>1824.843333</td>\n",
       "      <td>3.0</td>\n",
       "      <td>...</td>\n",
       "      <td>Good</td>\n",
       "      <td>809.98</td>\n",
       "      <td>31.944960</td>\n",
       "      <td>266.0</td>\n",
       "      <td>No</td>\n",
       "      <td>49.574949</td>\n",
       "      <td>21.46538</td>\n",
       "      <td>Low_spent_Large_value_payments</td>\n",
       "      <td>284.629162</td>\n",
       "      <td>Good</td>\n",
       "    </tr>\n",
       "    <tr>\n",
       "      <th>2</th>\n",
       "      <td>5636</td>\n",
       "      <td>3392</td>\n",
       "      <td>3</td>\n",
       "      <td>Aaron Maashoh</td>\n",
       "      <td>23.0</td>\n",
       "      <td>821000265.0</td>\n",
       "      <td>Scientist</td>\n",
       "      <td>19114.12</td>\n",
       "      <td>1824.843333</td>\n",
       "      <td>3.0</td>\n",
       "      <td>...</td>\n",
       "      <td>Good</td>\n",
       "      <td>809.98</td>\n",
       "      <td>28.609352</td>\n",
       "      <td>267.0</td>\n",
       "      <td>No</td>\n",
       "      <td>49.574949</td>\n",
       "      <td>21.46538</td>\n",
       "      <td>Low_spent_Medium_value_payments</td>\n",
       "      <td>331.209863</td>\n",
       "      <td>Good</td>\n",
       "    </tr>\n",
       "    <tr>\n",
       "      <th>3</th>\n",
       "      <td>5637</td>\n",
       "      <td>3392</td>\n",
       "      <td>4</td>\n",
       "      <td>Aaron Maashoh</td>\n",
       "      <td>23.0</td>\n",
       "      <td>821000265.0</td>\n",
       "      <td>Scientist</td>\n",
       "      <td>19114.12</td>\n",
       "      <td>1824.843333</td>\n",
       "      <td>3.0</td>\n",
       "      <td>...</td>\n",
       "      <td>Good</td>\n",
       "      <td>809.98</td>\n",
       "      <td>31.377862</td>\n",
       "      <td>268.0</td>\n",
       "      <td>No</td>\n",
       "      <td>49.574949</td>\n",
       "      <td>21.46538</td>\n",
       "      <td>Low_spent_Small_value_payments</td>\n",
       "      <td>223.451310</td>\n",
       "      <td>Good</td>\n",
       "    </tr>\n",
       "    <tr>\n",
       "      <th>4</th>\n",
       "      <td>5638</td>\n",
       "      <td>3392</td>\n",
       "      <td>5</td>\n",
       "      <td>Aaron Maashoh</td>\n",
       "      <td>23.0</td>\n",
       "      <td>821000265.0</td>\n",
       "      <td>Scientist</td>\n",
       "      <td>19114.12</td>\n",
       "      <td>1824.843333</td>\n",
       "      <td>3.0</td>\n",
       "      <td>...</td>\n",
       "      <td>Good</td>\n",
       "      <td>809.98</td>\n",
       "      <td>24.797347</td>\n",
       "      <td>269.0</td>\n",
       "      <td>No</td>\n",
       "      <td>49.574949</td>\n",
       "      <td>21.46538</td>\n",
       "      <td>High_spent_Medium_value_payments</td>\n",
       "      <td>341.489231</td>\n",
       "      <td>Good</td>\n",
       "    </tr>\n",
       "  </tbody>\n",
       "</table>\n",
       "<p>5 rows × 28 columns</p>\n",
       "</div>"
      ],
      "text/plain": [
       "     ID  Customer_ID  Month           Name   Age          SSN Occupation  \\\n",
       "0  5634         3392      1  Aaron Maashoh  23.0  821000265.0  Scientist   \n",
       "1  5635         3392      2  Aaron Maashoh  23.0  821000265.0  Scientist   \n",
       "2  5636         3392      3  Aaron Maashoh  23.0  821000265.0  Scientist   \n",
       "3  5637         3392      4  Aaron Maashoh  23.0  821000265.0  Scientist   \n",
       "4  5638         3392      5  Aaron Maashoh  23.0  821000265.0  Scientist   \n",
       "\n",
       "   Annual_Income  Monthly_Inhand_Salary  Num_Bank_Accounts  ...  Credit_Mix  \\\n",
       "0       19114.12            1824.843333                3.0  ...        Good   \n",
       "1       19114.12            1824.843333                3.0  ...        Good   \n",
       "2       19114.12            1824.843333                3.0  ...        Good   \n",
       "3       19114.12            1824.843333                3.0  ...        Good   \n",
       "4       19114.12            1824.843333                3.0  ...        Good   \n",
       "\n",
       "   Outstanding_Debt  Credit_Utilization_Ratio Credit_History_Age  \\\n",
       "0            809.98                 26.822620              265.0   \n",
       "1            809.98                 31.944960              266.0   \n",
       "2            809.98                 28.609352              267.0   \n",
       "3            809.98                 31.377862              268.0   \n",
       "4            809.98                 24.797347              269.0   \n",
       "\n",
       "   Payment_of_Min_Amount  Total_EMI_per_month  Amount_invested_monthly  \\\n",
       "0                     No            49.574949                 21.46538   \n",
       "1                     No            49.574949                 21.46538   \n",
       "2                     No            49.574949                 21.46538   \n",
       "3                     No            49.574949                 21.46538   \n",
       "4                     No            49.574949                 21.46538   \n",
       "\n",
       "                  Payment_Behaviour Monthly_Balance  Credit_Score  \n",
       "0   High_spent_Small_value_payments      312.494089          Good  \n",
       "1    Low_spent_Large_value_payments      284.629162          Good  \n",
       "2   Low_spent_Medium_value_payments      331.209863          Good  \n",
       "3    Low_spent_Small_value_payments      223.451310          Good  \n",
       "4  High_spent_Medium_value_payments      341.489231          Good  \n",
       "\n",
       "[5 rows x 28 columns]"
      ]
     },
     "execution_count": 2,
     "metadata": {},
     "output_type": "execute_result"
    }
   ],
   "source": [
    "# read the csv file\n",
    "\n",
    "data=pd.read_csv('train.csv')\n",
    "data.head()"
   ]
  },
  {
   "cell_type": "code",
   "execution_count": 3,
   "id": "9828c44f",
   "metadata": {
    "scrolled": true
   },
   "outputs": [
    {
     "name": "stdout",
     "output_type": "stream",
     "text": [
      "<class 'pandas.core.frame.DataFrame'>\n",
      "RangeIndex: 100000 entries, 0 to 99999\n",
      "Data columns (total 28 columns):\n",
      " #   Column                    Non-Null Count   Dtype  \n",
      "---  ------                    --------------   -----  \n",
      " 0   ID                        100000 non-null  int64  \n",
      " 1   Customer_ID               100000 non-null  int64  \n",
      " 2   Month                     100000 non-null  int64  \n",
      " 3   Name                      100000 non-null  object \n",
      " 4   Age                       100000 non-null  float64\n",
      " 5   SSN                       100000 non-null  float64\n",
      " 6   Occupation                100000 non-null  object \n",
      " 7   Annual_Income             100000 non-null  float64\n",
      " 8   Monthly_Inhand_Salary     100000 non-null  float64\n",
      " 9   Num_Bank_Accounts         100000 non-null  float64\n",
      " 10  Num_Credit_Card           100000 non-null  float64\n",
      " 11  Interest_Rate             100000 non-null  float64\n",
      " 12  Num_of_Loan               100000 non-null  float64\n",
      " 13  Type_of_Loan              100000 non-null  object \n",
      " 14  Delay_from_due_date       100000 non-null  float64\n",
      " 15  Num_of_Delayed_Payment    100000 non-null  float64\n",
      " 16  Changed_Credit_Limit      100000 non-null  float64\n",
      " 17  Num_Credit_Inquiries      100000 non-null  float64\n",
      " 18  Credit_Mix                100000 non-null  object \n",
      " 19  Outstanding_Debt          100000 non-null  float64\n",
      " 20  Credit_Utilization_Ratio  100000 non-null  float64\n",
      " 21  Credit_History_Age        100000 non-null  float64\n",
      " 22  Payment_of_Min_Amount     100000 non-null  object \n",
      " 23  Total_EMI_per_month       100000 non-null  float64\n",
      " 24  Amount_invested_monthly   100000 non-null  float64\n",
      " 25  Payment_Behaviour         100000 non-null  object \n",
      " 26  Monthly_Balance           100000 non-null  float64\n",
      " 27  Credit_Score              100000 non-null  object \n",
      "dtypes: float64(18), int64(3), object(7)\n",
      "memory usage: 21.4+ MB\n"
     ]
    }
   ],
   "source": [
    "# information about a DataFrame\n",
    "\n",
    "data.info()"
   ]
  },
  {
   "cell_type": "code",
   "execution_count": 4,
   "id": "654e95a5",
   "metadata": {},
   "outputs": [],
   "source": [
    "data=data.drop(['ID','Customer_ID','Month','Name','Age','SSN','Occupation','Type_of_Loan'\n",
    "                  ,'Changed_Credit_Limit','Num_Credit_Inquiries','Credit_Utilization_Ratio'\n",
    "                  ,'Payment_of_Min_Amount','Total_EMI_per_month','Amount_invested_monthly'\n",
    "                  ,'Amount_invested_monthly','Payment_Behaviour'],axis=1)"
   ]
  },
  {
   "cell_type": "code",
   "execution_count": 5,
   "id": "81321825",
   "metadata": {},
   "outputs": [
    {
     "data": {
      "text/html": [
       "<div>\n",
       "<style scoped>\n",
       "    .dataframe tbody tr th:only-of-type {\n",
       "        vertical-align: middle;\n",
       "    }\n",
       "\n",
       "    .dataframe tbody tr th {\n",
       "        vertical-align: top;\n",
       "    }\n",
       "\n",
       "    .dataframe thead th {\n",
       "        text-align: right;\n",
       "    }\n",
       "</style>\n",
       "<table border=\"1\" class=\"dataframe\">\n",
       "  <thead>\n",
       "    <tr style=\"text-align: right;\">\n",
       "      <th></th>\n",
       "      <th>Annual_Income</th>\n",
       "      <th>Monthly_Inhand_Salary</th>\n",
       "      <th>Num_Bank_Accounts</th>\n",
       "      <th>Num_Credit_Card</th>\n",
       "      <th>Interest_Rate</th>\n",
       "      <th>Num_of_Loan</th>\n",
       "      <th>Delay_from_due_date</th>\n",
       "      <th>Num_of_Delayed_Payment</th>\n",
       "      <th>Credit_Mix</th>\n",
       "      <th>Outstanding_Debt</th>\n",
       "      <th>Credit_History_Age</th>\n",
       "      <th>Monthly_Balance</th>\n",
       "      <th>Credit_Score</th>\n",
       "    </tr>\n",
       "  </thead>\n",
       "  <tbody>\n",
       "    <tr>\n",
       "      <th>0</th>\n",
       "      <td>19114.12</td>\n",
       "      <td>1824.843333</td>\n",
       "      <td>3.0</td>\n",
       "      <td>4.0</td>\n",
       "      <td>3.0</td>\n",
       "      <td>4.0</td>\n",
       "      <td>3.0</td>\n",
       "      <td>7.0</td>\n",
       "      <td>Good</td>\n",
       "      <td>809.98</td>\n",
       "      <td>265.0</td>\n",
       "      <td>312.494089</td>\n",
       "      <td>Good</td>\n",
       "    </tr>\n",
       "    <tr>\n",
       "      <th>1</th>\n",
       "      <td>19114.12</td>\n",
       "      <td>1824.843333</td>\n",
       "      <td>3.0</td>\n",
       "      <td>4.0</td>\n",
       "      <td>3.0</td>\n",
       "      <td>4.0</td>\n",
       "      <td>3.0</td>\n",
       "      <td>4.0</td>\n",
       "      <td>Good</td>\n",
       "      <td>809.98</td>\n",
       "      <td>266.0</td>\n",
       "      <td>284.629162</td>\n",
       "      <td>Good</td>\n",
       "    </tr>\n",
       "    <tr>\n",
       "      <th>2</th>\n",
       "      <td>19114.12</td>\n",
       "      <td>1824.843333</td>\n",
       "      <td>3.0</td>\n",
       "      <td>4.0</td>\n",
       "      <td>3.0</td>\n",
       "      <td>4.0</td>\n",
       "      <td>3.0</td>\n",
       "      <td>7.0</td>\n",
       "      <td>Good</td>\n",
       "      <td>809.98</td>\n",
       "      <td>267.0</td>\n",
       "      <td>331.209863</td>\n",
       "      <td>Good</td>\n",
       "    </tr>\n",
       "    <tr>\n",
       "      <th>3</th>\n",
       "      <td>19114.12</td>\n",
       "      <td>1824.843333</td>\n",
       "      <td>3.0</td>\n",
       "      <td>4.0</td>\n",
       "      <td>3.0</td>\n",
       "      <td>4.0</td>\n",
       "      <td>5.0</td>\n",
       "      <td>4.0</td>\n",
       "      <td>Good</td>\n",
       "      <td>809.98</td>\n",
       "      <td>268.0</td>\n",
       "      <td>223.451310</td>\n",
       "      <td>Good</td>\n",
       "    </tr>\n",
       "    <tr>\n",
       "      <th>4</th>\n",
       "      <td>19114.12</td>\n",
       "      <td>1824.843333</td>\n",
       "      <td>3.0</td>\n",
       "      <td>4.0</td>\n",
       "      <td>3.0</td>\n",
       "      <td>4.0</td>\n",
       "      <td>6.0</td>\n",
       "      <td>4.0</td>\n",
       "      <td>Good</td>\n",
       "      <td>809.98</td>\n",
       "      <td>269.0</td>\n",
       "      <td>341.489231</td>\n",
       "      <td>Good</td>\n",
       "    </tr>\n",
       "  </tbody>\n",
       "</table>\n",
       "</div>"
      ],
      "text/plain": [
       "   Annual_Income  Monthly_Inhand_Salary  Num_Bank_Accounts  Num_Credit_Card  \\\n",
       "0       19114.12            1824.843333                3.0              4.0   \n",
       "1       19114.12            1824.843333                3.0              4.0   \n",
       "2       19114.12            1824.843333                3.0              4.0   \n",
       "3       19114.12            1824.843333                3.0              4.0   \n",
       "4       19114.12            1824.843333                3.0              4.0   \n",
       "\n",
       "   Interest_Rate  Num_of_Loan  Delay_from_due_date  Num_of_Delayed_Payment  \\\n",
       "0            3.0          4.0                  3.0                     7.0   \n",
       "1            3.0          4.0                  3.0                     4.0   \n",
       "2            3.0          4.0                  3.0                     7.0   \n",
       "3            3.0          4.0                  5.0                     4.0   \n",
       "4            3.0          4.0                  6.0                     4.0   \n",
       "\n",
       "  Credit_Mix  Outstanding_Debt  Credit_History_Age  Monthly_Balance  \\\n",
       "0       Good            809.98               265.0       312.494089   \n",
       "1       Good            809.98               266.0       284.629162   \n",
       "2       Good            809.98               267.0       331.209863   \n",
       "3       Good            809.98               268.0       223.451310   \n",
       "4       Good            809.98               269.0       341.489231   \n",
       "\n",
       "  Credit_Score  \n",
       "0         Good  \n",
       "1         Good  \n",
       "2         Good  \n",
       "3         Good  \n",
       "4         Good  "
      ]
     },
     "execution_count": 5,
     "metadata": {},
     "output_type": "execute_result"
    }
   ],
   "source": [
    "data.head()"
   ]
  },
  {
   "cell_type": "code",
   "execution_count": 6,
   "id": "95783e74",
   "metadata": {},
   "outputs": [
    {
     "data": {
      "text/plain": [
       "Annual_Income             0\n",
       "Monthly_Inhand_Salary     0\n",
       "Num_Bank_Accounts         0\n",
       "Num_Credit_Card           0\n",
       "Interest_Rate             0\n",
       "Num_of_Loan               0\n",
       "Delay_from_due_date       0\n",
       "Num_of_Delayed_Payment    0\n",
       "Credit_Mix                0\n",
       "Outstanding_Debt          0\n",
       "Credit_History_Age        0\n",
       "Monthly_Balance           0\n",
       "Credit_Score              0\n",
       "dtype: int64"
      ]
     },
     "execution_count": 6,
     "metadata": {},
     "output_type": "execute_result"
    }
   ],
   "source": [
    "# check any null value is present or not\n",
    "\n",
    "data.isna().sum()"
   ]
  },
  {
   "cell_type": "code",
   "execution_count": 7,
   "id": "a32ea57f",
   "metadata": {},
   "outputs": [
    {
     "data": {
      "text/plain": [
       "array(['Good', 'Standard', 'Poor'], dtype=object)"
      ]
     },
     "execution_count": 7,
     "metadata": {},
     "output_type": "execute_result"
    }
   ],
   "source": [
    "data['Credit_Score'].unique()"
   ]
  },
  {
   "cell_type": "code",
   "execution_count": 8,
   "id": "8ff16fae",
   "metadata": {},
   "outputs": [
    {
     "data": {
      "text/plain": [
       "Standard    53174\n",
       "Poor        28998\n",
       "Good        17828\n",
       "Name: Credit_Score, dtype: int64"
      ]
     },
     "execution_count": 8,
     "metadata": {},
     "output_type": "execute_result"
    }
   ],
   "source": [
    "data['Credit_Score'].value_counts()"
   ]
  },
  {
   "cell_type": "code",
   "execution_count": 10,
   "id": "8e2aa5e4",
   "metadata": {
    "scrolled": true
   },
   "outputs": [
    {
     "data": {
      "text/plain": [
       "array(['Good', 'Standard', 'Bad'], dtype=object)"
      ]
     },
     "execution_count": 10,
     "metadata": {},
     "output_type": "execute_result"
    }
   ],
   "source": [
    "data['Credit_Mix'].unique()"
   ]
  },
  {
   "cell_type": "code",
   "execution_count": 11,
   "id": "47e97ee2",
   "metadata": {},
   "outputs": [],
   "source": [
    "data['Credit_Mix'].replace({'Good':3, 'Standard':1, 'Bad':0},inplace=True)"
   ]
  },
  {
   "cell_type": "code",
   "execution_count": 12,
   "id": "c860eb6a",
   "metadata": {
    "scrolled": true
   },
   "outputs": [
    {
     "name": "stdout",
     "output_type": "stream",
     "text": [
      "(100000, 12) (100000,)\n"
     ]
    }
   ],
   "source": [
    "x=data.drop('Credit_Score',axis=1)\n",
    "y=data.Credit_Score\n",
    "print(x.shape,y.shape)"
   ]
  },
  {
   "cell_type": "code",
   "execution_count": 13,
   "id": "602e3ed1",
   "metadata": {},
   "outputs": [
    {
     "name": "stdout",
     "output_type": "stream",
     "text": [
      "<class 'pandas.core.frame.DataFrame'>\n",
      "RangeIndex: 100000 entries, 0 to 99999\n",
      "Data columns (total 13 columns):\n",
      " #   Column                  Non-Null Count   Dtype  \n",
      "---  ------                  --------------   -----  \n",
      " 0   Annual_Income           100000 non-null  float64\n",
      " 1   Monthly_Inhand_Salary   100000 non-null  float64\n",
      " 2   Num_Bank_Accounts       100000 non-null  float64\n",
      " 3   Num_Credit_Card         100000 non-null  float64\n",
      " 4   Interest_Rate           100000 non-null  float64\n",
      " 5   Num_of_Loan             100000 non-null  float64\n",
      " 6   Delay_from_due_date     100000 non-null  float64\n",
      " 7   Num_of_Delayed_Payment  100000 non-null  float64\n",
      " 8   Credit_Mix              100000 non-null  int64  \n",
      " 9   Outstanding_Debt        100000 non-null  float64\n",
      " 10  Credit_History_Age      100000 non-null  float64\n",
      " 11  Monthly_Balance         100000 non-null  float64\n",
      " 12  Credit_Score            100000 non-null  object \n",
      "dtypes: float64(11), int64(1), object(1)\n",
      "memory usage: 9.9+ MB\n"
     ]
    }
   ],
   "source": [
    "data.info()"
   ]
  },
  {
   "cell_type": "code",
   "execution_count": 14,
   "id": "9b338dac",
   "metadata": {},
   "outputs": [],
   "source": [
    "x_train, x_test, y_train, y_test=train_test_split(x, y, test_size=0.33, random_state=42)"
   ]
  },
  {
   "cell_type": "code",
   "execution_count": 15,
   "id": "555c76ef",
   "metadata": {},
   "outputs": [],
   "source": [
    "log_reg=LogisticRegression()"
   ]
  },
  {
   "cell_type": "code",
   "execution_count": 16,
   "id": "4813cfcb",
   "metadata": {},
   "outputs": [
    {
     "data": {
      "text/plain": [
       "LogisticRegression()"
      ]
     },
     "execution_count": 16,
     "metadata": {},
     "output_type": "execute_result"
    }
   ],
   "source": [
    "log_reg.fit(x_train, y_train)"
   ]
  },
  {
   "cell_type": "code",
   "execution_count": 17,
   "id": "5ee0f734",
   "metadata": {},
   "outputs": [
    {
     "data": {
      "text/plain": [
       "array(['Standard', 'Poor', 'Standard', ..., 'Standard', 'Standard',\n",
       "       'Standard'], dtype=object)"
      ]
     },
     "execution_count": 17,
     "metadata": {},
     "output_type": "execute_result"
    }
   ],
   "source": [
    "y_pred=log_reg.predict(x_test)\n",
    "y_pred"
   ]
  },
  {
   "cell_type": "code",
   "execution_count": 18,
   "id": "6321da42",
   "metadata": {},
   "outputs": [
    {
     "data": {
      "text/plain": [
       "array(['Standard'], dtype=object)"
      ]
     },
     "execution_count": 18,
     "metadata": {},
     "output_type": "execute_result"
    }
   ],
   "source": [
    "log_reg.predict([[19114.12,1824.843333,2,2,9,2,12,3,3,250,200,310]])"
   ]
  },
  {
   "cell_type": "code",
   "execution_count": 19,
   "id": "20fe68c9",
   "metadata": {},
   "outputs": [
    {
     "data": {
      "text/plain": [
       "array([[  295,   117,  5454],\n",
       "       [   54,  3272,  6307],\n",
       "       [  356,  2749, 14396]], dtype=int64)"
      ]
     },
     "execution_count": 19,
     "metadata": {},
     "output_type": "execute_result"
    }
   ],
   "source": [
    "cnf_matrix = confusion_matrix(y_test,y_pred)\n",
    "cnf_matrix"
   ]
  },
  {
   "cell_type": "code",
   "execution_count": 20,
   "id": "8d66a2b3",
   "metadata": {},
   "outputs": [
    {
     "data": {
      "text/plain": [
       "0.5443333333333333"
      ]
     },
     "execution_count": 20,
     "metadata": {},
     "output_type": "execute_result"
    }
   ],
   "source": [
    "accuracy_score(y_test,y_pred)"
   ]
  },
  {
   "cell_type": "markdown",
   "id": "d9cdf3f8",
   "metadata": {},
   "source": [
    "In Logistic regression accuracy score is not good so we try another algrithm"
   ]
  },
  {
   "cell_type": "code",
   "execution_count": 21,
   "id": "250342a5",
   "metadata": {},
   "outputs": [
    {
     "data": {
      "text/plain": [
       "RandomForestClassifier()"
      ]
     },
     "execution_count": 21,
     "metadata": {},
     "output_type": "execute_result"
    }
   ],
   "source": [
    "model = RandomForestClassifier()\n",
    "model.fit(x_train, y_train)"
   ]
  },
  {
   "cell_type": "code",
   "execution_count": 22,
   "id": "6ffe2168",
   "metadata": {},
   "outputs": [
    {
     "name": "stdout",
     "output_type": "stream",
     "text": [
      "test score is  0.8071212121212121 train score is  0.999955223880597\n"
     ]
    }
   ],
   "source": [
    "test_score= model.score(x_test,y_test)\n",
    "train_score=model.score(x_train,y_train)\n",
    "print('test score is ',test_score,'train score is ',train_score)"
   ]
  },
  {
   "cell_type": "code",
   "execution_count": 23,
   "id": "179e574c",
   "metadata": {},
   "outputs": [
    {
     "data": {
      "text/plain": [
       "array(['Good'], dtype=object)"
      ]
     },
     "execution_count": 23,
     "metadata": {},
     "output_type": "execute_result"
    }
   ],
   "source": [
    "model.predict([[19114.12,1824.843333,2,2,9,2,12,3,3,250,200,310]])"
   ]
  }
 ],
 "metadata": {
  "kernelspec": {
   "display_name": "Python 3 (ipykernel)",
   "language": "python",
   "name": "python3"
  },
  "language_info": {
   "codemirror_mode": {
    "name": "ipython",
    "version": 3
   },
   "file_extension": ".py",
   "mimetype": "text/x-python",
   "name": "python",
   "nbconvert_exporter": "python",
   "pygments_lexer": "ipython3",
   "version": "3.9.12"
  }
 },
 "nbformat": 4,
 "nbformat_minor": 5
}
