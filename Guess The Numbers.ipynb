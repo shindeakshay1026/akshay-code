{
 "cells": [
  {
   "cell_type": "code",
   "execution_count": null,
   "id": "fe369a17",
   "metadata": {},
   "outputs": [
    {
     "name": "stdout",
     "output_type": "stream",
     "text": [
      "you have 5 chances\n"
     ]
    }
   ],
   "source": [
    "h = 'yes' \n",
    "while h != 'no' :\n",
    "    c_no = 55 \n",
    "    chances = 5 \n",
    "    print ( f\"you have { chances } chances\" )\n",
    "    while chances != 0 :\n",
    "        chances -= 1 \n",
    "        user = ( int ( input ( \"guess the number\" )))\n",
    "        if user == c_no :\n",
    "            print ( \"you win\" )\n",
    "            break\n",
    "        elif user > c_no : \n",
    "            print ( \"your no. is greater decrease the no.\" )\n",
    "            print ( \"your remaining chances is\" , chances ) \n",
    "            continue\n",
    "        elif user < c_no :\n",
    "            print ( \"your no. is lesser increase the no\" ) \n",
    "            print ( \"your remaining chances is\" , chances ) \n",
    "            continue\n",
    "            print ( chances )\n",
    "        else :\n",
    "            print ( \"your chances over\" ) \n",
    "            print ( \"you loss\" ) \n",
    "    h = input ( \"do you want to play again?\" )"
   ]
  },
  {
   "cell_type": "code",
   "execution_count": null,
   "id": "a8617cb2",
   "metadata": {},
   "outputs": [],
   "source": []
  }
 ],
 "metadata": {
  "kernelspec": {
   "display_name": "Python 3 (ipykernel)",
   "language": "python",
   "name": "python3"
  },
  "language_info": {
   "codemirror_mode": {
    "name": "ipython",
    "version": 3
   },
   "file_extension": ".py",
   "mimetype": "text/x-python",
   "name": "python",
   "nbconvert_exporter": "python",
   "pygments_lexer": "ipython3",
   "version": "3.9.12"
  }
 },
 "nbformat": 4,
 "nbformat_minor": 5
}
