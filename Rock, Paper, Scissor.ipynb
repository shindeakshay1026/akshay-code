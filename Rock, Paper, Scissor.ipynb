{
 "cells": [
  {
   "cell_type": "code",
   "execution_count": null,
   "id": "fabc431d",
   "metadata": {},
   "outputs": [
    {
     "name": "stdout",
     "output_type": "stream",
     "text": [
      "Rock, Paper, Scissor\n"
     ]
    }
   ],
   "source": [
    "#import the libraries \n",
    "import random \n",
    "\n",
    "#title of the game \n",
    "print('Rock, Paper, Scissor')\n",
    "\n",
    "#given inputs\n",
    "l = [ 'Rock' , 'Paper' , 'Scissor' ]\n",
    "u = c = 0 \n",
    "play = 'yes'\n",
    "\n",
    "#use while loop or nested loop\n",
    "while play != 'no' :\n",
    "    for i , j in enumerate(l): \n",
    "        t = int(input(('How Many times you want to Check: \\n')))\n",
    "        \n",
    "        print ( '\\nSelected Choice is:' ) \n",
    "        print ( '0.Rock' )\n",
    "        print ( '1.Paper' )\n",
    "        print ( '2.Scissor\\n\\n' ) \n",
    "        \n",
    "        while t >= 1 :\n",
    "            # print(i, j) \n",
    "#             print ( 't after for loop now: ' , t ) \n",
    "            user = int(input('Enter your choice in between 0 to 2: \\n'))\n",
    "            if user in range (3): \n",
    "                print(l[user])\n",
    "            else : \n",
    "                print('Invalid Number') \n",
    "                continue \n",
    "            print('\\nYou Selected: ',l[ user ]) \n",
    "            computer = random .randrange(3) \n",
    "            print ( 'Computer Selected' ,l[computer])\n",
    "            # break\n",
    "            t -= 1\n",
    "            \n",
    "            if l[user] == 'Rock' and l[computer] == 'Scissor' or l[user] == 'Paper' and l [user] == 'Scissor' and l [computer] == 'Paper' : \n",
    "                print ( '\\nYou Win' )\n",
    "                u += 1 \n",
    "            elif l [computer] == 'Rock' and l [user] == 'Scissor' or l [computer] == 'Paper' and l[computer ] == 'Scissor' and l [user] == 'Paper' : \n",
    "                print ( 'Computer Win\\n' ) \n",
    "                c += 1 \n",
    "            else : \n",
    "                print ( 'Draw\\n' )\n",
    "                c == 1 and u == 1 \n",
    "        print ( \"\\n\\nUser's Score\" , u ) \n",
    "        print ( \"Computer's Score\" , c ) \n",
    "        if u > c : \n",
    "            print ( 'User Win' ) \n",
    "        elif c > u : \n",
    "            print ( 'Computer Win\\n' )\n",
    "        else :\n",
    "            print ( 'Match Draw' )\n",
    "                \n",
    "        #check want to play again or not \n",
    "        play = input ( \"Do u want to Play again enter your answer in 'yes' and 'no' format: \" )\n",
    "        if play.lower() == 'yes' :\n",
    "            continue \n",
    "        else :\n",
    "            break\n",
    "    break"
   ]
  },
  {
   "cell_type": "code",
   "execution_count": null,
   "id": "5a1c3a0e",
   "metadata": {},
   "outputs": [],
   "source": []
  },
  {
   "cell_type": "code",
   "execution_count": null,
   "id": "7405a195",
   "metadata": {},
   "outputs": [],
   "source": []
  }
 ],
 "metadata": {
  "kernelspec": {
   "display_name": "Python 3 (ipykernel)",
   "language": "python",
   "name": "python3"
  },
  "language_info": {
   "codemirror_mode": {
    "name": "ipython",
    "version": 3
   },
   "file_extension": ".py",
   "mimetype": "text/x-python",
   "name": "python",
   "nbconvert_exporter": "python",
   "pygments_lexer": "ipython3",
   "version": "3.9.12"
  }
 },
 "nbformat": 4,
 "nbformat_minor": 5
}
